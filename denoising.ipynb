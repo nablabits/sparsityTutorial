{
 "cells": [
  {
   "cell_type": "markdown",
   "metadata": {},
   "source": [
    "<a href=\"http://www.cosmostat.org/\" target=\"_blank\"><img align=\"left\" width=\"300\" src=\"http://www.cosmostat.org/wp-content/uploads/2017/07/CosmoStat-Logo_WhiteBK-e1499155861666.png\" alt=\"CosmoStat Logo\"></a>\n",
    "<br>\n",
    "<br>\n",
    "<br>\n",
    "<br>\n",
    "\n",
    "# Astronomical Image Denoising\n",
    "---\n",
    "\n",
    "> Author: <a href=\"http://www.cosmostat.org/people/sfarrens\" target=\"_blank\" style=\"text-decoration:none; color: #F08080\">Samuel Farrens</a>  \n",
    "> Email: <a href=\"mailto:samuel.farrens@cea.fr\" style=\"text-decoration:none; color: #F08080\">samuel.farrens@cea.fr</a>  \n",
    "> Year: 2019  \n",
    "> Version: 1.0\n",
    "\n",
    "---\n",
    "<br>\n",
    "\n",
    "The objective of this notebook is to introduce some of the tools and concepts used to remove noise from astronomical images. The content of the tutorial is in no way exhaustive and should be supplimented with further reading for a more comprehensive understanding of the topic. Tutees should be familiar with the topics covered in the [sparsity notebook](./sparsity.ipynb) before starting.\n",
    "\n",
    "If you are new to Jupyter notebooks note that cells are executed by pressing <kbd>SHIFT</kbd>+<kbd>ENTER</kbd> (&#x21E7;+ &#x23ce;). See the <a href=\"https://jupyter-notebook.readthedocs.io/en/stable/\" target_=\"blanck\">Jupyter documentation</a> for more details."
   ]
  },
  {
   "cell_type": "markdown",
   "metadata": {},
   "source": [
    "## Contents\n",
    "---\n",
    "\n",
    "1. [Set-Up](#1-Set-Up)\n",
    "1. [Introduction](#2-Introduction)\n",
    "1. [Sparse Decomposition](#3-Sparse-Decomposition)\n",
    "    1. [NGC2997](#NGC2997)\n",
    "    1. [Decomposition](#Decomposition)\n",
    "    1. [Recombination](#Recombination)\n",
    "1. [Adding Noise](#4-Adding-Noise)\n",
    "    1. [Noisy Decomposition](#Noisy-Decomposition)\n",
    "1. [Noise Estimation](#5-Noise-Estimation)\n",
    "    1. [Smooth Median](#Smooth-Median)\n",
    "    1. [Sigma Clipping](#Sigma-Clipping)\n",
    "    1. [Helper Function](#Helper-Function)\n",
    "    1. [Sigma Rescaling](#Sigma-Rescaling)\n",
    "    1. [Weights](#Weights)\n",
    "1. [Denoising](#6-Denoising)\n",
    "    1. [Thresholding](#Thresholding)\n",
    "    1. [Final Recombination](#Final-Recombination)\n",
    "1. [Exercise](#7-Exercise)\n",
    "    1. [Hints](#Hints)"
   ]
  },
  {
   "cell_type": "markdown",
   "metadata": {},
   "source": [
    "## 1 Set-Up\n",
    "---\n",
    "\n",
    "The following cell contains some set-up commands. Be sure to execute this cell before continuing."
   ]
  },
  {
   "cell_type": "code",
   "execution_count": null,
   "metadata": {},
   "outputs": [],
   "source": [
    "# Import the numpy package with the alias np.\n",
    "import numpy as np\n",
    "\n",
    "# Import getdata function from astropy\n",
    "from astropy.io.fits import getdata\n",
    "\n",
    "# Import noise handling functions from modopt\n",
    "from modopt.signal.noise import add_noise, thresh\n",
    "\n",
    "# Import stamp handler from sf_tools\n",
    "from sf_tools.image.stamp import FetchStamps\n",
    "\n",
    "# Import interaction module\n",
    "from ipywidgets.widgets import *\n",
    "\n",
    "# Import tutorial utility functions\n",
    "from tutorial_utils import decompose, recombine, noise_est, sigma_scales\n",
    "\n",
    "# Import tutorial plotting functions.\n",
    "import plot"
   ]
  },
  {
   "cell_type": "markdown",
   "metadata": {},
   "source": [
    "## 2 Introduction\n",
    "---\n",
    "\n",
    "Unlike many other fields of science, astrophysics relies almost entirely of observations of extremely distant objects. Large telescopes and long exposure times are required in order to capture enough photos to study these objects. This leads to various sources of distortion and noise in the obeserved images coming from: the Earth's atmosphere, the optical system used, the electronics of the detector and the random arrival of photons.\n",
    "\n",
    "We can model the difference between the true object and what is observed as follows:\n",
    "\n",
    "$$\\mathbf{y} = \\mathcal{H}\\mathbf{x} + \\mathbf{n}$$\n",
    "\n",
    "where $\\mathbf{y}$ is the observed image, $\\mathbf{x}$ is the \"true\" image, $\\mathcal{H}$ are the abberrations introduced by atomosphere and the optics, and $\\mathbf{n}$ is the noise.\n",
    "\n",
    "For the purposes of this tutorial we will neglect the impact of $\\mathcal{H}$ and simply look the noise. Therefore, we can simplify our model as follows:\n",
    "\n",
    "$$\\mathbf{y} = \\mathbf{x} + \\mathbf{n}$$\n",
    "\n",
    "To solve this problem we aim to recover $\\mathbf{x}$ given $\\mathbf{y}$ and assuming that $\\mathbf{n}$ is Gaussian. In other words, we would like to denoise the observed image.\n",
    "\n",
    "There are, of course, many ways to approach this problem. For the purposes of this tutorial, we will look at using a sparse wavelet decomposition of the image in order threshold out the noise."
   ]
  },
  {
   "cell_type": "markdown",
   "metadata": {},
   "source": [
    "## 3 Sparse Decomposition\n",
    "---\n",
    "\n",
    "Following the introduction to sparsity, you should be familiar with how the Fourier transform can be used to obtain the sparse representation of a signal. For this tutorial we will expand upon that same concept using wavelets.\n",
    "\n",
    "If you are completely unfamiliar with wavelets I suggest that you have a look at this [CosmoStat notebook on wavelets](https://github.com/CosmoStat/Tutorials/blob/master/ada/wavelets_1.ipynb) for a hands-on introduction. In the meantime simply keep in mind that the objective of wavelets is to simultaneously retain some spatial and frequency information from the image.\n",
    "\n",
    "For this tutorial we will use the *starlet* (or [Isotropic Undecimated Wavelet Transform](http://jstarck.free.fr/Chapter_Starlet2011.pdf)). The starlet transform decomposes an image, $\\mathbf{x}$, into a coarse scale, $\\mathbf{x}^J$, and wavelet scales, $(\\boldsymbol{w}^j)_{1\\leq j \\leq J}$,\n",
    "\n",
    "$$\\mathbf{x} = \\mathbf{x}^{J} + \\sum_{j=1}^J \\boldsymbol{w}^{j}$$\n",
    "\n",
    "where the first level ($j = 1$) corresponds to the highest frequencies (*i.e.* the finest scale).\n",
    "\n",
    "Let's have a look at how this works using an image of a galaxy. \n",
    "\n",
    "\n",
    "### <font color='blue'>NGC2997</font>\n",
    "\n",
    "\n",
    "First, let's load the image of the galaxy NGC2997, which is in Flexible Image Transport System ([FITS](https://en.wikipedia.org/wiki/FITS)) format. We can do this using the [`getdata`](https://docs.astropy.org/en/stable/io/fits/api/files.html#astropy.io.fits.getdata) function from [Astropy](https://www.astropy.org/)."
   ]
  },
  {
   "cell_type": "code",
   "execution_count": null,
   "metadata": {},
   "outputs": [],
   "source": [
    "# Load image of NGC2997\n",
    "ngc2997 = getdata('./data/ngc2997.fits')\n",
    "\n",
    "# Plot image\n",
    "plot.image(ngc2997, title='NGC2997')"
   ]
  },
  {
   "cell_type": "markdown",
   "metadata": {},
   "source": [
    "We can see the typical (low spatial frequency) shape of the galaxy along with some high spatial frequency features.\n",
    "\n",
    "### <font color='blue'>Decomposition</font>\n",
    "\n",
    "We can use the `decompose` function to obtain our wavlet decomposition."
   ]
  },
  {
   "cell_type": "code",
   "execution_count": null,
   "metadata": {},
   "outputs": [],
   "source": [
    "# Uncomment the following line to show the help for the decompose function\n",
    "# help(decompose)"
   ]
  },
  {
   "cell_type": "markdown",
   "metadata": {},
   "source": [
    "This function uses the starlet transform from [PySAP](https://github.com/CEA-COSMIC/pysap) in order to obatin the decomposition of the image.\n",
    "\n",
    "<br>\n",
    "<font color='orange'>INTERACTIVE CELL</font>"
   ]
  },
  {
   "cell_type": "code",
   "execution_count": null,
   "metadata": {},
   "outputs": [],
   "source": [
    "######################################\n",
    "# YOU SHOULD INTERACT WITH THIS CELL #\n",
    "######################################\n",
    "\n",
    "# Show starlet decomposition\n",
    "def show_decomp(n_scales=None):\n",
    "\n",
    "    # Decompose image\n",
    "    ngc2997_decomp = decompose(ngc2997, n_scales=n_scales)\n",
    "\n",
    "    # Plot decomposition\n",
    "    plot.decomp(ngc2997_decomp, n_cols=3)\n",
    "    \n",
    "# Make interactive cell\n",
    "scale_slider = IntSlider(value=2, min=2, max=6, step=1)\n",
    "interact(show_decomp, n_scales=scale_slider)"
   ]
  },
  {
   "cell_type": "markdown",
   "metadata": {},
   "source": [
    "We can see that as the image is decomposed into more scales, more of the higher spatial frequency features are stripped from the corase scale. In particular, we can note that the wavelet scales are very sparse!\n",
    "\n",
    "### <font color='blue'>Recombination</font>\n",
    "\n",
    "An important property of the starlet transform is that the original image can be recovered simply by summing the decomposition. This can be done using the `recombine function`."
   ]
  },
  {
   "cell_type": "code",
   "execution_count": null,
   "metadata": {},
   "outputs": [],
   "source": [
    "# Uncomment the following line to show the help for the recombine function\n",
    "# help(recombine)"
   ]
  },
  {
   "cell_type": "code",
   "execution_count": null,
   "metadata": {},
   "outputs": [],
   "source": [
    "# Decompose image\n",
    "ngc2997_decomp = decompose(ngc2997, n_scales=4)\n",
    "\n",
    "# Recombine image\n",
    "ngc2997_recomb = recombine(ngc2997_decomp)\n",
    "\n",
    "# Plot recombined image\n",
    "plot.image(ngc2997_recomb, title='NGC2997 Recombined')"
   ]
  },
  {
   "cell_type": "markdown",
   "metadata": {},
   "source": [
    "## 4 Adding Noise\n",
    "---\n",
    "\n",
    "Now let's add some Gaussian noise to our image to simulate an observation ($\\mathbf{y}$). To do so we can use the [`add_noise`](https://cea-cosmic.github.io/ModOpt/modopt.signal.noise.html?highlight=add_noise#modopt.signal.noise.add_noise) function from [ModOpt](https://cea-cosmic.github.io/ModOpt/). \n",
    "\n",
    "We will set $\\sigma = 500$ to have a strong visual impact."
   ]
  },
  {
   "cell_type": "code",
   "execution_count": null,
   "metadata": {},
   "outputs": [],
   "source": [
    "# Add noise with sigma=500 to image\n",
    "sigma = 500\n",
    "np.random.seed(0)\n",
    "ngc2997_noisy = add_noise(ngc2997, sigma=sigma)\n",
    "\n",
    "# Plot noisy image\n",
    "plot.image(ngc2997_noisy, title=r'NGC2997 + $\\sigma=500$')"
   ]
  },
  {
   "cell_type": "markdown",
   "metadata": {},
   "source": [
    "### <font color='blue'>Noisy Decomposition</font>\n",
    "\n",
    "Now we can decompose our noisy observation to see what happens."
   ]
  },
  {
   "cell_type": "code",
   "execution_count": null,
   "metadata": {},
   "outputs": [],
   "source": [
    "# Decompose noisy image\n",
    "ngc2997_noisy_decomp = decompose(ngc2997_noisy, n_scales=4)\n",
    "\n",
    "# Plot decomposition\n",
    "plot.decomp(ngc2997_noisy_decomp, n_cols=3)"
   ]
  },
  {
   "cell_type": "markdown",
   "metadata": {},
   "source": [
    "Right away we can see that the first scale is almost entirely noise, while the corase scale looks almost identical to that of the clean image. This gives us a very strong motivation for using sparsity to denoise our image."
   ]
  },
  {
   "cell_type": "markdown",
   "metadata": {},
   "source": [
    "## 5 Noise Estimation\n",
    "---\n",
    "\n",
    "In this toy example we know exactly how much noise we added to our image. We can demonstrate that, if we take the residual from the clean and noisy images, it is trivial to estimate the amount of noise added."
   ]
  },
  {
   "cell_type": "code",
   "execution_count": null,
   "metadata": {},
   "outputs": [],
   "source": [
    "# Calculate the residual\n",
    "residual_noisy = ngc2997 - ngc2997_noisy\n",
    "\n",
    "# Plot the residual\n",
    "plot.image(residual_noisy, title='Residual')\n",
    "\n",
    "# Estimate the noise standard deviation from the residual\n",
    "print('The standard deviation of resiual is {:.2f}.'.format(np.std(residual_noisy)))"
   ]
  },
  {
   "cell_type": "markdown",
   "metadata": {},
   "source": [
    "In real applications, however, we will simply observe a noisy image and at best hope to know what type of noise the image may contain. Thefore, the first step in our denoising process will be to estimate the amount of noise in the observed image.\n",
    "\n",
    "### <font color='blue'>Smooth Median</font>\n",
    "\n",
    "First we will smooth our image by taking the median value in $3\\times 3$ kernels. We can extract the stamps and calculate their median using the `FetchStamps` class from [sf_tools](https://github.com/sfarrens/sf_tools)."
   ]
  },
  {
   "cell_type": "code",
   "execution_count": null,
   "metadata": {},
   "outputs": [],
   "source": [
    "# Extract 3x3 kernels from noisy image can calculate their median\n",
    "ngc2997_smooth = FetchStamps(ngc2997_noisy, pixel_rad=1, all=True, pad_mode='edge').scan(np.median)\n",
    "\n",
    "# Reshape median values to image shape to produce smoothed image\n",
    "ngc2997_smooth = ngc2997_smooth.reshape(ngc2997_noisy.shape)\n",
    "\n",
    "# Plot smoothed image\n",
    "plot.image(ngc2997_smooth, 'NGC2997 Smoothed')"
   ]
  },
  {
   "cell_type": "markdown",
   "metadata": {},
   "source": [
    "Then we can get a rough noise map by subtracting the smoothed image from the noisy image."
   ]
  },
  {
   "cell_type": "code",
   "execution_count": null,
   "metadata": {},
   "outputs": [],
   "source": [
    "# Subtract smooth image from the noisy image\n",
    "residual_smooth = ngc2997_noisy - ngc2997_smooth\n",
    "\n",
    "# Plot the residual\n",
    "plot.image(residual_smooth)"
   ]
  },
  {
   "cell_type": "markdown",
   "metadata": {},
   "source": [
    "We can see that this looks similar the residual we had when we subtracted the noisy image from the clean image.\n",
    "\n",
    "### <font color='blue'>Sigma Clipping</font>\n",
    "\n",
    "To ensure that we are not including any high spatial frequency features in our noise estimate we can perform an iterative sigma clipping procedure.\n",
    "\n",
    "We start by calculating the mean and standard deviation of our rough noise map."
   ]
  },
  {
   "cell_type": "code",
   "execution_count": null,
   "metadata": {},
   "outputs": [],
   "source": [
    "# Calculate the mean\n",
    "mean_clip = np.mean(residual_smooth)\n",
    "\n",
    "# Calculate the standard deviation\n",
    "sigma_clip = np.std(residual_smooth)\n",
    "\n",
    "print('Mean = {:.2f}, Sigma = {:.2f}'.format(mean_clip, sigma_clip))"
   ]
  },
  {
   "cell_type": "markdown",
   "metadata": {},
   "source": [
    "Then we will iteratively recalulate these values for elements, $x_i$, that satisfy $x_i - \\mu < 3\\sigma$ (*i.e.* excluding values in the grey area of the plot below)."
   ]
  },
  {
   "cell_type": "code",
   "execution_count": null,
   "metadata": {},
   "outputs": [],
   "source": [
    "# Plot histogram of sigma clipping procedure\n",
    "plot.hist(residual_smooth - mean_clip, sigma_clip, mean_clip)"
   ]
  },
  {
   "cell_type": "code",
   "execution_count": null,
   "metadata": {},
   "outputs": [],
   "source": [
    "# Perform iterative sigma clipping\n",
    "for _iter in range(2):\n",
    "    \n",
    "    # Clip out elements > 3*sigma\n",
    "    residual_clipped = residual_smooth[np.abs(residual_smooth - mean_clip) < (3 * sigma_clip)]\n",
    "\n",
    "    # Recalculate mean and standard deviation\n",
    "    mean_clip = np.mean(residual_clipped)\n",
    "    sigma_clip = np.std(residual_clipped)\n",
    "\n",
    "    print('Mean = {:.2f}, Sigma = {:.2f}'.format(mean_clip, sigma_clip))"
   ]
  },
  {
   "cell_type": "markdown",
   "metadata": {},
   "source": [
    "Next, we divide the final sigma value by a correction factor to get the final noise estimate."
   ]
  },
  {
   "cell_type": "code",
   "execution_count": null,
   "metadata": {},
   "outputs": [],
   "source": [
    "# Divide sigma by correction factor\n",
    "sigma_clip /= 0.972463\n",
    "\n",
    "print('Sigma = {:.2f}'.format(sigma_clip))"
   ]
  },
  {
   "cell_type": "markdown",
   "metadata": {},
   "source": [
    "Which gives us a pretty reasonable estimate of our original noise standard deviation.\n",
    "\n",
    "### <font color='green'>Helper Function</font>\n",
    "\n",
    "To save some time, I provide the simple noise estimation function `noise_est` that performs all these steps for you."
   ]
  },
  {
   "cell_type": "code",
   "execution_count": null,
   "metadata": {},
   "outputs": [],
   "source": [
    "# Uncomment the following line to show the help for the noise_est function\n",
    "# help(noise_est)"
   ]
  },
  {
   "cell_type": "code",
   "execution_count": null,
   "metadata": {},
   "outputs": [],
   "source": [
    "# Estimate the noise standard deviation from the noisy image\n",
    "sigma_est = noise_est(ngc2997_noisy)\n",
    "\n",
    "print('The noise estimate is sigma={:.2f}.'.format(sigma_est))"
   ]
  },
  {
   "cell_type": "markdown",
   "metadata": {},
   "source": [
    "### <font color='blue'>Sigma Rescaling</font>\n",
    "\n",
    "In order to threshold the decomposed image we need to rescale the noise estimate for each of the wavelet scales. To do this we multiply the estimate of the noise standard deviation by the l2-norm of the decomposition of a dirac (*i.e.* a 2D-array of zeros with a 1 at the centre).\n",
    "\n",
    "To save time I also provide the simple helper fuction `sigma_scales` to do this."
   ]
  },
  {
   "cell_type": "code",
   "execution_count": null,
   "metadata": {},
   "outputs": [],
   "source": [
    "# Uncomment the following line to show the help for the sigma_scales function\n",
    "# help(sigma_scales)"
   ]
  },
  {
   "cell_type": "code",
   "execution_count": null,
   "metadata": {},
   "outputs": [],
   "source": [
    "# Rescale sigma for the wavelet scales\n",
    "sigma_est_scales = sigma_scales(sigma_est)\n",
    "print('Scaled sigma values:', sigma_est_scales)\n",
    "print()"
   ]
  },
  {
   "cell_type": "markdown",
   "metadata": {},
   "source": [
    "### <font color='blue'>Weights</font>\n",
    "\n",
    "Finally, we multiply the rescaled sigma values by a fixed scale-dependent factor $k^j$ to provide a set of weights we can use to threshold the decomposed observation. In principal this is a factor we can play around with in order to get the best possible denoising, but previous experiments have shown a value of 3 or 4 performs well on most images. Therefore, we will set $k^0 = 4$ and $k^{j>0} = 3$. "
   ]
  },
  {
   "cell_type": "code",
   "execution_count": null,
   "metadata": {},
   "outputs": [],
   "source": [
    "# Set the wavelet scale threshold weights\n",
    "weights = np.array([4] + [3] * sigma_est_scales[:-1].size) * sigma_est_scales\n",
    "print('Weights:', weights)"
   ]
  },
  {
   "cell_type": "markdown",
   "metadata": {},
   "source": [
    "## 6 Denoising\n",
    "---\n",
    "\n",
    "Now that we have painstakingly worked out what our threshold weights should be we can attempt to denoise our observation.\n",
    "\n",
    "### <font color='blue'>Thresholding</font>\n",
    "\n",
    "To do so we will use the [`thresh`](https://cea-cosmic.github.io/ModOpt/modopt.signal.noise.html?highlight=thresh#modopt.signal.noise.thresh) function from ModOpt. Keep in mind that we only want to threshold the wavelet scales and not the coarse scale."
   ]
  },
  {
   "cell_type": "code",
   "execution_count": null,
   "metadata": {},
   "outputs": [],
   "source": [
    "# Threshold the decomposed noisy image (not including the coarse scale)\n",
    "ngc2997_thresh = np.vstack([thresh(ngc2997_noisy_decomp[:-1].T, weights).T, ngc2997_noisy_decomp[-1, None]])\n",
    "\n",
    "# Plot the thresholded decomposition\n",
    "plot.decomp(ngc2997_thresh)"
   ]
  },
  {
   "cell_type": "markdown",
   "metadata": {},
   "source": [
    "We can see that the first scale, which was almost entirely composed of noise, is now virtually empty, while the high spatial frequency features in the remaining scales have been retained. \n",
    "\n",
    "### <font color='blue'>Final Recombination</font>\n",
    "\n",
    "The last step is to recombine the thresholed decomposition in order to reconstruct our denoised image. "
   ]
  },
  {
   "cell_type": "code",
   "execution_count": null,
   "metadata": {},
   "outputs": [],
   "source": [
    "# Recombine the wavelet scales\n",
    "ngc2997_denoised = recombine(ngc2997_thresh)\n",
    "\n",
    "# Plot the denoised image and the corresponding residual\n",
    "plot.image(ngc2997_denoised, title='NGC2997 Denoised')\n",
    "plot.image(ngc2997 - ngc2997_denoised, title='Residual')"
   ]
  },
  {
   "cell_type": "markdown",
   "metadata": {},
   "source": [
    "While our denoised image is not as sharp as the original clean image, it is pretty much noise free and has retained most of the high spatial frequency features.\n",
    "\n",
    "Hopefully this has given you a good idea of how useful sparsity can be for handling astrophysical images."
   ]
  },
  {
   "cell_type": "markdown",
   "metadata": {},
   "source": [
    "## 7 Exercise\n",
    "---\n",
    "\n",
    "Use what you have learned in this notebook to write a one-step denoising function (*i.e.* a function that takes a noisy image as the input and returns a denoised image as the output).\n",
    "\n",
    "1. Use your function to reproduce the denoising of NGC2997.\n",
    "1. Now use your function to denoise the image in the file `saturn_noisy.fits`.\n",
    "1. Display your denoised image of Saturn."
   ]
  },
  {
   "cell_type": "code",
   "execution_count": null,
   "metadata": {},
   "outputs": [],
   "source": []
  },
  {
   "cell_type": "markdown",
   "metadata": {},
   "source": [
    "> ### <font color='orange'>Hints</font>\n",
    ">\n",
    "> 1. It might be useful to use some of the helper functions provided."
   ]
  }
 ],
 "metadata": {
  "kernelspec": {
   "display_name": "Python 3",
   "language": "python",
   "name": "python3"
  },
  "language_info": {
   "codemirror_mode": {
    "name": "ipython",
    "version": 3
   },
   "file_extension": ".py",
   "mimetype": "text/x-python",
   "name": "python",
   "nbconvert_exporter": "python",
   "pygments_lexer": "ipython3",
   "version": "3.7.3"
  }
 },
 "nbformat": 4,
 "nbformat_minor": 2
}
